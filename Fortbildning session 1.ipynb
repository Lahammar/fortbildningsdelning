{
 "cells": [
  {
   "cell_type": "markdown",
   "id": "725f25cd",
   "metadata": {},
   "source": [
    "# Rubrik"
   ]
  },
  {
   "cell_type": "markdown",
   "id": "b3d1c2bc",
   "metadata": {},
   "source": [
    "Text här jo\n",
    "\n",
    "### Underrubrik\n",
    "\n",
    "*italic* **bold**"
   ]
  },
  {
   "cell_type": "markdown",
   "id": "8b1a993c",
   "metadata": {},
   "source": [
    "[sökmotor](http://google.com)"
   ]
  },
  {
   "cell_type": "markdown",
   "id": "177884a6",
   "metadata": {},
   "source": []
  },
  {
   "cell_type": "code",
   "execution_count": 4,
   "id": "e5d018b6",
   "metadata": {
    "scrolled": true
   },
   "outputs": [
    {
     "name": "stdout",
     "output_type": "stream",
     "text": [
      "Hello World!\n"
     ]
    }
   ],
   "source": [
    "print(\"Hello World!\")"
   ]
  },
  {
   "cell_type": "code",
   "execution_count": 7,
   "id": "06ed1967",
   "metadata": {
    "scrolled": true
   },
   "outputs": [
    {
     "name": "stdout",
     "output_type": "stream",
     "text": [
      "343\n"
     ]
    }
   ],
   "source": [
    "# variabler\n",
    "\n",
    "a = 3\n",
    "dvargar = 7\n",
    "\n",
    "print(7**3)"
   ]
  },
  {
   "cell_type": "code",
   "execution_count": null,
   "id": "2454a279",
   "metadata": {},
   "outputs": [],
   "source": [
    "+ - * / **"
   ]
  },
  {
   "cell_type": "code",
   "execution_count": 8,
   "id": "77e96d54",
   "metadata": {},
   "outputs": [],
   "source": [
    "# funktionspaket\n",
    "\n",
    "import numpy"
   ]
  },
  {
   "cell_type": "code",
   "execution_count": 11,
   "id": "42098dfe",
   "metadata": {
    "scrolled": true
   },
   "outputs": [
    {
     "data": {
      "text/plain": [
       "3.141592653589793"
      ]
     },
     "execution_count": 11,
     "metadata": {},
     "output_type": "execute_result"
    }
   ],
   "source": [
    "numpy.pi"
   ]
  },
  {
   "cell_type": "code",
   "execution_count": 12,
   "id": "f52a5e0d",
   "metadata": {},
   "outputs": [],
   "source": [
    "import numpy as np"
   ]
  },
  {
   "cell_type": "code",
   "execution_count": 13,
   "id": "eda16845",
   "metadata": {},
   "outputs": [
    {
     "data": {
      "text/plain": [
       "3.141592653589793"
      ]
     },
     "execution_count": 13,
     "metadata": {},
     "output_type": "execute_result"
    }
   ],
   "source": [
    "np.pi"
   ]
  },
  {
   "cell_type": "code",
   "execution_count": 14,
   "id": "7b0661f7",
   "metadata": {},
   "outputs": [],
   "source": [
    "lista = [1, 3, 5, 7, 10]"
   ]
  },
  {
   "cell_type": "code",
   "execution_count": 15,
   "id": "7349bd60",
   "metadata": {
    "scrolled": true
   },
   "outputs": [
    {
     "name": "stdout",
     "output_type": "stream",
     "text": [
      "[1, 3, 5, 7, 10]\n"
     ]
    }
   ],
   "source": [
    "print(lista)"
   ]
  },
  {
   "cell_type": "code",
   "execution_count": 16,
   "id": "30a3ab87",
   "metadata": {
    "scrolled": true
   },
   "outputs": [
    {
     "data": {
      "text/plain": [
       "5.2"
      ]
     },
     "execution_count": 16,
     "metadata": {},
     "output_type": "execute_result"
    }
   ],
   "source": [
    "np.mean(lista) # beräknar medeltal"
   ]
  },
  {
   "cell_type": "markdown",
   "id": "02f84d76",
   "metadata": {},
   "source": [
    "[Webbsidan](https://opendata-education.github.io/se/)"
   ]
  },
  {
   "cell_type": "markdown",
   "id": "68bf738b",
   "metadata": {},
   "source": [
    "#### Bild\n",
    "\n",
    "![beskrivning av bilden](https://opendata-education.github.io/fortbildning/_static/logo.png)"
   ]
  },
  {
   "cell_type": "markdown",
   "id": "a04d06bf",
   "metadata": {},
   "source": [
    "![bild](logo.png)"
   ]
  },
  {
   "cell_type": "markdown",
   "id": "1b2af70c",
   "metadata": {},
   "source": [
    "Man kan också skriva $LaTeX$ här.\n",
    "\n",
    "$$ A\\ =\\ \\pi r^2 $$"
   ]
  },
  {
   "cell_type": "markdown",
   "id": "5c29c465",
   "metadata": {},
   "source": [
    "Man kan lägga in en bild med kommandot ``![](länk)``\n",
    "\n",
    "Man kan skriva python-kod\n",
    "\n",
    "````python\n",
    "import numpy as np\n",
    "````"
   ]
  },
  {
   "cell_type": "code",
   "execution_count": 17,
   "id": "7b3aafc0",
   "metadata": {},
   "outputs": [],
   "source": [
    "import pandas as pd"
   ]
  },
  {
   "cell_type": "code",
   "execution_count": 27,
   "id": "647cb0d5",
   "metadata": {
    "scrolled": false
   },
   "outputs": [
    {
     "data": {
      "text/html": [
       "<div>\n",
       "<style scoped>\n",
       "    .dataframe tbody tr th:only-of-type {\n",
       "        vertical-align: middle;\n",
       "    }\n",
       "\n",
       "    .dataframe tbody tr th {\n",
       "        vertical-align: top;\n",
       "    }\n",
       "\n",
       "    .dataframe thead th {\n",
       "        text-align: right;\n",
       "    }\n",
       "</style>\n",
       "<table border=\"1\" class=\"dataframe\">\n",
       "  <thead>\n",
       "    <tr style=\"text-align: right;\">\n",
       "      <th></th>\n",
       "      <th>Vuosi</th>\n",
       "      <th>Kk</th>\n",
       "      <th>Pv</th>\n",
       "      <th>Klo</th>\n",
       "      <th>Aikavyöhyke</th>\n",
       "      <th>Kuukauden sadesumma (mm)</th>\n",
       "      <th>Kuukauden keskilämpötila (degC)</th>\n",
       "    </tr>\n",
       "  </thead>\n",
       "  <tbody>\n",
       "    <tr>\n",
       "      <th>0</th>\n",
       "      <td>2021</td>\n",
       "      <td>1</td>\n",
       "      <td>1</td>\n",
       "      <td>00:00</td>\n",
       "      <td>UTC</td>\n",
       "      <td>51.2</td>\n",
       "      <td>-5.0</td>\n",
       "    </tr>\n",
       "    <tr>\n",
       "      <th>1</th>\n",
       "      <td>2021</td>\n",
       "      <td>2</td>\n",
       "      <td>1</td>\n",
       "      <td>00:00</td>\n",
       "      <td>UTC</td>\n",
       "      <td>36.3</td>\n",
       "      <td>-7.3</td>\n",
       "    </tr>\n",
       "    <tr>\n",
       "      <th>2</th>\n",
       "      <td>2021</td>\n",
       "      <td>3</td>\n",
       "      <td>1</td>\n",
       "      <td>00:00</td>\n",
       "      <td>UTC</td>\n",
       "      <td>21.6</td>\n",
       "      <td>-0.5</td>\n",
       "    </tr>\n",
       "    <tr>\n",
       "      <th>3</th>\n",
       "      <td>2021</td>\n",
       "      <td>4</td>\n",
       "      <td>1</td>\n",
       "      <td>00:00</td>\n",
       "      <td>UTC</td>\n",
       "      <td>32.4</td>\n",
       "      <td>3.2</td>\n",
       "    </tr>\n",
       "    <tr>\n",
       "      <th>4</th>\n",
       "      <td>2021</td>\n",
       "      <td>5</td>\n",
       "      <td>1</td>\n",
       "      <td>00:00</td>\n",
       "      <td>UTC</td>\n",
       "      <td>65.6</td>\n",
       "      <td>8.0</td>\n",
       "    </tr>\n",
       "  </tbody>\n",
       "</table>\n",
       "</div>"
      ],
      "text/plain": [
       "   Vuosi  Kk  Pv    Klo Aikavyöhyke  Kuukauden sadesumma (mm)  \\\n",
       "0   2021   1   1  00:00         UTC                      51.2   \n",
       "1   2021   2   1  00:00         UTC                      36.3   \n",
       "2   2021   3   1  00:00         UTC                      21.6   \n",
       "3   2021   4   1  00:00         UTC                      32.4   \n",
       "4   2021   5   1  00:00         UTC                      65.6   \n",
       "\n",
       "   Kuukauden keskilämpötila (degC)  \n",
       "0                             -5.0  \n",
       "1                             -7.3  \n",
       "2                             -0.5  \n",
       "3                              3.2  \n",
       "4                              8.0  "
      ]
     },
     "execution_count": 27,
     "metadata": {},
     "output_type": "execute_result"
    }
   ],
   "source": [
    "klem2021 = pd.read_csv(\"klemetso2021.csv\")\n",
    "\n",
    "\n",
    "klem2021.head()"
   ]
  },
  {
   "cell_type": "code",
   "execution_count": 28,
   "id": "a485f860",
   "metadata": {},
   "outputs": [],
   "source": [
    "# för att rita grafer\n",
    "\n",
    "import matplotlib.pyplot as plt"
   ]
  },
  {
   "cell_type": "code",
   "execution_count": 29,
   "id": "bb1314f4",
   "metadata": {},
   "outputs": [
    {
     "data": {
      "text/plain": [
       "[<matplotlib.lines.Line2D at 0x2179759bd00>]"
      ]
     },
     "execution_count": 29,
     "metadata": {},
     "output_type": "execute_result"
    },
    {
     "data": {
      "image/png": "[encoded data removed]",
      "text/plain": [
       "<Figure size 432x288 with 1 Axes>"
      ]
     },
     "metadata": {
      "needs_background": "light"
     },
     "output_type": "display_data"
    }
   ],
   "source": [
    "# första grafen\n",
    "# plt.plot(xlista, ylista)\n",
    "\n",
    "plt.plot(klem2021['Kk'], klem2021[\"Kuukauden keskilämpötila (degC)\"])"
   ]
  }
 ],
 "metadata": {
  "kernelspec": {
   "display_name": "Python 3",
   "language": "python",
   "name": "python3"
  },
  "language_info": {
   "codemirror_mode": {
    "name": "ipython",
    "version": 3
   },
   "file_extension": ".py",
   "mimetype": "text/x-python",
   "name": "python",
   "nbconvert_exporter": "python",
   "pygments_lexer": "ipython3",
   "version": "3.8.10"
  }
 },
 "nbformat": 4,
 "nbformat_minor": 5
}
